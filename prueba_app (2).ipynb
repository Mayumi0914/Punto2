{
 "cells": [
  {
   "cell_type": "code",
   "execution_count": 1,
   "metadata": {},
   "outputs": [],
   "source": [
    "import requests\n",
    "import json\t"
   ]
  },
  {
   "cell_type": "code",
   "execution_count": 2,
   "metadata": {},
   "outputs": [
    {
     "name": "stdout",
     "output_type": "stream",
     "text": [
      "200\n",
      "{'Email': 'amarismartinez@gmail.com', 'prediction': 661.2504399664624}\n"
     ]
    }
   ],
   "source": [
    "# URL de la API\n",
    "url = 'http://127.0.0.1:8000/predict'\n",
    "\n",
    "# Datos de ejemplo (los reales los proporcionarás al momento de uso)\n",
    "data = {\n",
    "    \"Email\": \"amarismartinez@gmail.com\",\n",
    "    \"Address\": \"Munich\",\n",
    "    \"dominio\": \"yahoo\",\n",
    "    \"Tec\": \"PC\",\n",
    "    \"Avg_Session_Length\": 33.946241,\n",
    "    \"Time_on_App\": 20.983977,\n",
    "    \"Time_on_Website\": 37.951489,\n",
    "    \"Length_of_Membership\": 3.050713,\n",
    "    \"price\": 0.0\n",
    "}\n",
    "\n",
    "# Hacer la solicitud POST\n",
    "headers = {\"Content-Type\": \"application/json\"}\n",
    "response = requests.post(url, data=json.dumps(data), headers=headers)\n",
    "\n",
    "# Verificar el código de estado y la respuesta\n",
    "print(response.status_code)\n",
    "if response.status_code == 200:\n",
    "    print(response.json())\n",
    "else:\n",
    "    print(\"Error en la solicitud:\", response.text)"
   ]
  }
 ],
 "metadata": {
  "kernelspec": {
   "display_name": "my_env",
   "language": "python",
   "name": "python3"
  },
  "language_info": {
   "codemirror_mode": {
    "name": "ipython",
    "version": 3
   },
   "file_extension": ".py",
   "mimetype": "text/x-python",
   "name": "python",
   "nbconvert_exporter": "python",
   "pygments_lexer": "ipython3",
   "version": "3.10.11"
  }
 },
 "nbformat": 4,
 "nbformat_minor": 2
}
